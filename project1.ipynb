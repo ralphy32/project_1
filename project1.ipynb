{
 "cells": [
  {
   "cell_type": "markdown",
   "metadata": {},
   "source": [
    "# Project 1\n",
    "---\n",
    "\n",
    "### Analysis\n",
    "\n",
    "- Here is where the analysis will be."
   ]
  },
  {
   "cell_type": "markdown",
   "metadata": {},
   "source": [
    "## Setup\n",
    "--------"
   ]
  },
  {
   "cell_type": "code",
   "execution_count": 43,
   "metadata": {},
   "outputs": [],
   "source": [
    "# Dependencies\n",
    "import pandas as pd\n",
    "import matplotlib.pyplot as plt\n",
    "import numpy as np\n",
    "import scipy.stats as st\n",
    "from scipy.stats import linregress"
   ]
  },
  {
   "cell_type": "code",
   "execution_count": 2,
   "metadata": {},
   "outputs": [
    {
     "data": {
      "text/html": [
       "<div>\n",
       "<style scoped>\n",
       "    .dataframe tbody tr th:only-of-type {\n",
       "        vertical-align: middle;\n",
       "    }\n",
       "\n",
       "    .dataframe tbody tr th {\n",
       "        vertical-align: top;\n",
       "    }\n",
       "\n",
       "    .dataframe thead th {\n",
       "        text-align: right;\n",
       "    }\n",
       "</style>\n",
       "<table border=\"1\" class=\"dataframe\">\n",
       "  <thead>\n",
       "    <tr style=\"text-align: right;\">\n",
       "      <th></th>\n",
       "      <th>Country Name</th>\n",
       "      <th>Country Code</th>\n",
       "      <th>Indicator Name</th>\n",
       "      <th>Indicator Code</th>\n",
       "      <th>1960</th>\n",
       "      <th>1961</th>\n",
       "      <th>1962</th>\n",
       "      <th>1963</th>\n",
       "      <th>1964</th>\n",
       "      <th>1965</th>\n",
       "      <th>...</th>\n",
       "      <th>2007</th>\n",
       "      <th>2008</th>\n",
       "      <th>2009</th>\n",
       "      <th>2010</th>\n",
       "      <th>2011</th>\n",
       "      <th>2012</th>\n",
       "      <th>2013</th>\n",
       "      <th>2014</th>\n",
       "      <th>2015</th>\n",
       "      <th>Unnamed: 60</th>\n",
       "    </tr>\n",
       "  </thead>\n",
       "  <tbody>\n",
       "    <tr>\n",
       "      <th>0</th>\n",
       "      <td>Arab World</td>\n",
       "      <td>ARB</td>\n",
       "      <td>% of females ages 15-49 having comprehensive c...</td>\n",
       "      <td>SH.HIV.KNOW.FE.ZS</td>\n",
       "      <td>NaN</td>\n",
       "      <td>NaN</td>\n",
       "      <td>NaN</td>\n",
       "      <td>NaN</td>\n",
       "      <td>NaN</td>\n",
       "      <td>NaN</td>\n",
       "      <td>...</td>\n",
       "      <td>NaN</td>\n",
       "      <td>NaN</td>\n",
       "      <td>NaN</td>\n",
       "      <td>NaN</td>\n",
       "      <td>NaN</td>\n",
       "      <td>NaN</td>\n",
       "      <td>NaN</td>\n",
       "      <td>NaN</td>\n",
       "      <td>NaN</td>\n",
       "      <td>NaN</td>\n",
       "    </tr>\n",
       "  </tbody>\n",
       "</table>\n",
       "<p>1 rows × 61 columns</p>\n",
       "</div>"
      ],
      "text/plain": [
       "  Country Name Country Code  \\\n",
       "0   Arab World          ARB   \n",
       "\n",
       "                                      Indicator Name     Indicator Code  1960  \\\n",
       "0  % of females ages 15-49 having comprehensive c...  SH.HIV.KNOW.FE.ZS   NaN   \n",
       "\n",
       "   1961  1962  1963  1964  1965  ...  2007  2008  2009  2010  2011  2012  \\\n",
       "0   NaN   NaN   NaN   NaN   NaN  ...   NaN   NaN   NaN   NaN   NaN   NaN   \n",
       "\n",
       "   2013  2014  2015  Unnamed: 60  \n",
       "0   NaN   NaN   NaN          NaN  \n",
       "\n",
       "[1 rows x 61 columns]"
      ]
     },
     "execution_count": 2,
     "metadata": {},
     "output_type": "execute_result"
    }
   ],
   "source": [
    "# Import master data file\n",
    "master_data_df = pd.read_csv(\"data.csv\")\n",
    "master_data_df.head(1)"
   ]
  },
  {
   "cell_type": "code",
   "execution_count": 3,
   "metadata": {},
   "outputs": [
    {
     "data": {
      "text/html": [
       "<div>\n",
       "<style scoped>\n",
       "    .dataframe tbody tr th:only-of-type {\n",
       "        vertical-align: middle;\n",
       "    }\n",
       "\n",
       "    .dataframe tbody tr th {\n",
       "        vertical-align: top;\n",
       "    }\n",
       "\n",
       "    .dataframe thead th {\n",
       "        text-align: right;\n",
       "    }\n",
       "</style>\n",
       "<table border=\"1\" class=\"dataframe\">\n",
       "  <thead>\n",
       "    <tr style=\"text-align: right;\">\n",
       "      <th></th>\n",
       "      <th>Country Name</th>\n",
       "      <th>Indicator Name</th>\n",
       "      <th>2006</th>\n",
       "      <th>2007</th>\n",
       "      <th>2008</th>\n",
       "      <th>2009</th>\n",
       "      <th>2010</th>\n",
       "      <th>2011</th>\n",
       "      <th>2012</th>\n",
       "      <th>2013</th>\n",
       "      <th>2014</th>\n",
       "      <th>2015</th>\n",
       "    </tr>\n",
       "  </thead>\n",
       "  <tbody>\n",
       "    <tr>\n",
       "      <th>19505</th>\n",
       "      <td>Bangladesh</td>\n",
       "      <td>Mortality rate, adult, female (per 1,000 femal...</td>\n",
       "      <td>135.856</td>\n",
       "      <td>131.575</td>\n",
       "      <td>127.94</td>\n",
       "      <td>124.306</td>\n",
       "      <td>120.672</td>\n",
       "      <td>117.038</td>\n",
       "      <td>113.403</td>\n",
       "      <td>110.296</td>\n",
       "      <td>107.188</td>\n",
       "      <td>NaN</td>\n",
       "    </tr>\n",
       "  </tbody>\n",
       "</table>\n",
       "</div>"
      ],
      "text/plain": [
       "      Country Name                                     Indicator Name  \\\n",
       "19505   Bangladesh  Mortality rate, adult, female (per 1,000 femal...   \n",
       "\n",
       "          2006     2007    2008     2009     2010     2011     2012     2013  \\\n",
       "19505  135.856  131.575  127.94  124.306  120.672  117.038  113.403  110.296   \n",
       "\n",
       "          2014  2015  \n",
       "19505  107.188   NaN  "
      ]
     },
     "execution_count": 3,
     "metadata": {},
     "output_type": "execute_result"
    }
   ],
   "source": [
    "# Limit years for cleaned data to 2006-2015\n",
    "cleaned_data_df = master_data_df [[\"Country Name\", \"Indicator Name\", \"2006\", \"2007\", \"2008\", \"2009\", \"2010\", \"2011\", \"2012\", \"2013\", \"2014\", \"2015\"]]\n",
    "\n",
    "# Limit countries for cleaned data to 10 largest in the world\n",
    "cleaned_data_df = cleaned_data_df .loc[(cleaned_data_df [\"Country Name\"] == \"China\") |\n",
    "                     (cleaned_data_df [\"Country Name\"] == \"India\") |\n",
    "                     (cleaned_data_df [\"Country Name\"] == \"United States\") |\n",
    "                     (cleaned_data_df [\"Country Name\"] == \"Indonesia\") |\n",
    "                     (cleaned_data_df [\"Country Name\"] == \"Brazil\") |\n",
    "                     (cleaned_data_df [\"Country Name\"] == \"Pakistan\") |\n",
    "                     (cleaned_data_df [\"Country Name\"] == \"Nigeria\") |\n",
    "                     (cleaned_data_df [\"Country Name\"] == \"Bangladesh\") |\n",
    "                     (cleaned_data_df [\"Country Name\"] == \"Russian Federation\") |\n",
    "                     (cleaned_data_df [\"Country Name\"] == \"Mexico\")\n",
    "                     , :]\n",
    "\n",
    "# Limit indicators to those relevant for planned analysis\n",
    "cleaned_data_df = cleaned_data_df .loc[(cleaned_data_df [\"Indicator Name\"] == \"Mortality rate, adult, male (per 1,000 male adults)\") |\n",
    "                     (cleaned_data_df [\"Indicator Name\"] == \"Mortality rate, adult, female (per 1,000 female adults)\") |\n",
    "                     (cleaned_data_df [\"Indicator Name\"] == \"Population, total\") |\n",
    "                     (cleaned_data_df [\"Indicator Name\"] == \"Population, male\") |\n",
    "                     (cleaned_data_df [\"Indicator Name\"] == \"Population, female\") |\n",
    "                     (cleaned_data_df [\"Indicator Name\"] == \"Urban population\") |\n",
    "                     (cleaned_data_df [\"Indicator Name\"] == \"Rural population\") |\n",
    "                     (cleaned_data_df [\"Indicator Name\"] == \"Physicians (per 1,000 people)\") |\n",
    "                     (cleaned_data_df [\"Indicator Name\"] == \"Prevalence of overweight (% of adults)\") |\n",
    "                     (cleaned_data_df [\"Indicator Name\"] == \"Prevalence of overweight, male (% of male adults)\") |\n",
    "                     (cleaned_data_df [\"Indicator Name\"] == \"Prevalence of overweight, female (% of female adults)\")\n",
    "                     , :]\n",
    "\n",
    "# Display cleaned dataframe\n",
    "cleaned_data_df.head(1)"
   ]
  },
  {
   "cell_type": "code",
   "execution_count": 4,
   "metadata": {},
   "outputs": [
    {
     "data": {
      "text/html": [
       "<div>\n",
       "<style scoped>\n",
       "    .dataframe tbody tr th:only-of-type {\n",
       "        vertical-align: middle;\n",
       "    }\n",
       "\n",
       "    .dataframe tbody tr th {\n",
       "        vertical-align: top;\n",
       "    }\n",
       "\n",
       "    .dataframe thead th {\n",
       "        text-align: right;\n",
       "    }\n",
       "</style>\n",
       "<table border=\"1\" class=\"dataframe\">\n",
       "  <thead>\n",
       "    <tr style=\"text-align: right;\">\n",
       "      <th></th>\n",
       "      <th>Country Name</th>\n",
       "      <th>Indicator Name</th>\n",
       "      <th>2006</th>\n",
       "      <th>2007</th>\n",
       "      <th>2008</th>\n",
       "      <th>2009</th>\n",
       "      <th>2010</th>\n",
       "      <th>2011</th>\n",
       "      <th>2012</th>\n",
       "      <th>2013</th>\n",
       "      <th>2014</th>\n",
       "      <th>2015</th>\n",
       "    </tr>\n",
       "    <tr>\n",
       "      <th>Index</th>\n",
       "      <th></th>\n",
       "      <th></th>\n",
       "      <th></th>\n",
       "      <th></th>\n",
       "      <th></th>\n",
       "      <th></th>\n",
       "      <th></th>\n",
       "      <th></th>\n",
       "      <th></th>\n",
       "      <th></th>\n",
       "      <th></th>\n",
       "      <th></th>\n",
       "    </tr>\n",
       "  </thead>\n",
       "  <tbody>\n",
       "    <tr>\n",
       "      <th>0</th>\n",
       "      <td>Bangladesh</td>\n",
       "      <td>Mortality rate, adult, female (per 1,000 femal...</td>\n",
       "      <td>135.856</td>\n",
       "      <td>131.575</td>\n",
       "      <td>127.94</td>\n",
       "      <td>124.306</td>\n",
       "      <td>120.672</td>\n",
       "      <td>117.038</td>\n",
       "      <td>113.403</td>\n",
       "      <td>110.296</td>\n",
       "      <td>107.188</td>\n",
       "      <td>NaN</td>\n",
       "    </tr>\n",
       "  </tbody>\n",
       "</table>\n",
       "</div>"
      ],
      "text/plain": [
       "      Country Name                                     Indicator Name  \\\n",
       "Index                                                                   \n",
       "0       Bangladesh  Mortality rate, adult, female (per 1,000 femal...   \n",
       "\n",
       "          2006     2007    2008     2009     2010     2011     2012     2013  \\\n",
       "Index                                                                          \n",
       "0      135.856  131.575  127.94  124.306  120.672  117.038  113.403  110.296   \n",
       "\n",
       "          2014  2015  \n",
       "Index                 \n",
       "0      107.188   NaN  "
      ]
     },
     "execution_count": 4,
     "metadata": {},
     "output_type": "execute_result"
    }
   ],
   "source": [
    "# Sorting dataframe\n",
    "cleaned_data_df = cleaned_data_df.reset_index(drop=True)\n",
    "cleaned_data_df.index.name = \"Index\"\n",
    "cleaned_data_df.head(1)"
   ]
  },
  {
   "cell_type": "code",
   "execution_count": 5,
   "metadata": {},
   "outputs": [
    {
     "data": {
      "text/html": [
       "<div>\n",
       "<style scoped>\n",
       "    .dataframe tbody tr th:only-of-type {\n",
       "        vertical-align: middle;\n",
       "    }\n",
       "\n",
       "    .dataframe tbody tr th {\n",
       "        vertical-align: top;\n",
       "    }\n",
       "\n",
       "    .dataframe thead th {\n",
       "        text-align: right;\n",
       "    }\n",
       "</style>\n",
       "<table border=\"1\" class=\"dataframe\">\n",
       "  <thead>\n",
       "    <tr style=\"text-align: right;\">\n",
       "      <th></th>\n",
       "      <th>2006-2015 AVG</th>\n",
       "    </tr>\n",
       "    <tr>\n",
       "      <th>Index</th>\n",
       "      <th></th>\n",
       "    </tr>\n",
       "  </thead>\n",
       "  <tbody>\n",
       "    <tr>\n",
       "      <th>0</th>\n",
       "      <td>120.919333</td>\n",
       "    </tr>\n",
       "  </tbody>\n",
       "</table>\n",
       "</div>"
      ],
      "text/plain": [
       "       2006-2015 AVG\n",
       "Index               \n",
       "0         120.919333"
      ]
     },
     "execution_count": 5,
     "metadata": {},
     "output_type": "execute_result"
    }
   ],
   "source": [
    "column_averages = cleaned_data_df[[\"2006\",\"2007\",\"2008\",\"2009\",\"2010\",\"2011\",\"2012\",\"2013\",\"2014\",\"2015\"]].mean(axis = 1, skipna = True)\n",
    "column_averages_df = pd.DataFrame(column_averages)\n",
    "column_averages_df=column_averages_df.rename(columns = {0:\"2006-2015 AVG\"})\n",
    "column_averages_df.index.name = \"Index\"\n",
    "column_averages_df.head(1)"
   ]
  },
  {
   "cell_type": "code",
   "execution_count": 7,
   "metadata": {},
   "outputs": [
    {
     "data": {
      "text/html": [
       "<div>\n",
       "<style scoped>\n",
       "    .dataframe tbody tr th:only-of-type {\n",
       "        vertical-align: middle;\n",
       "    }\n",
       "\n",
       "    .dataframe tbody tr th {\n",
       "        vertical-align: top;\n",
       "    }\n",
       "\n",
       "    .dataframe thead th {\n",
       "        text-align: right;\n",
       "    }\n",
       "</style>\n",
       "<table border=\"1\" class=\"dataframe\">\n",
       "  <thead>\n",
       "    <tr style=\"text-align: right;\">\n",
       "      <th></th>\n",
       "      <th>Country Name</th>\n",
       "      <th>Indicator Name</th>\n",
       "      <th>2006</th>\n",
       "      <th>2007</th>\n",
       "      <th>2008</th>\n",
       "      <th>2009</th>\n",
       "      <th>2010</th>\n",
       "      <th>2011</th>\n",
       "      <th>2012</th>\n",
       "      <th>2013</th>\n",
       "      <th>2014</th>\n",
       "      <th>2015</th>\n",
       "      <th>2006-2015 AVG</th>\n",
       "    </tr>\n",
       "    <tr>\n",
       "      <th>Index</th>\n",
       "      <th></th>\n",
       "      <th></th>\n",
       "      <th></th>\n",
       "      <th></th>\n",
       "      <th></th>\n",
       "      <th></th>\n",
       "      <th></th>\n",
       "      <th></th>\n",
       "      <th></th>\n",
       "      <th></th>\n",
       "      <th></th>\n",
       "      <th></th>\n",
       "      <th></th>\n",
       "    </tr>\n",
       "  </thead>\n",
       "  <tbody>\n",
       "    <tr>\n",
       "      <th>0</th>\n",
       "      <td>Bangladesh</td>\n",
       "      <td>Mortality rate, adult, female (per 1,000 femal...</td>\n",
       "      <td>135.856</td>\n",
       "      <td>131.575</td>\n",
       "      <td>127.94</td>\n",
       "      <td>124.306</td>\n",
       "      <td>120.672</td>\n",
       "      <td>117.038</td>\n",
       "      <td>113.403</td>\n",
       "      <td>110.296</td>\n",
       "      <td>107.188</td>\n",
       "      <td>NaN</td>\n",
       "      <td>120.919333</td>\n",
       "    </tr>\n",
       "  </tbody>\n",
       "</table>\n",
       "</div>"
      ],
      "text/plain": [
       "      Country Name                                     Indicator Name  \\\n",
       "Index                                                                   \n",
       "0       Bangladesh  Mortality rate, adult, female (per 1,000 femal...   \n",
       "\n",
       "          2006     2007    2008     2009     2010     2011     2012     2013  \\\n",
       "Index                                                                          \n",
       "0      135.856  131.575  127.94  124.306  120.672  117.038  113.403  110.296   \n",
       "\n",
       "          2014  2015  2006-2015 AVG  \n",
       "Index                                \n",
       "0      107.188   NaN     120.919333  "
      ]
     },
     "execution_count": 7,
     "metadata": {},
     "output_type": "execute_result"
    }
   ],
   "source": [
    "cleaned_data_df = pd.merge(cleaned_data_df,column_averages_df, on = \"Index\", how = \"inner\")\n",
    "cleaned_data_df.head(1)"
   ]
  },
  {
   "cell_type": "code",
   "execution_count": 9,
   "metadata": {},
   "outputs": [
    {
     "data": {
      "text/html": [
       "<div>\n",
       "<style scoped>\n",
       "    .dataframe tbody tr th:only-of-type {\n",
       "        vertical-align: middle;\n",
       "    }\n",
       "\n",
       "    .dataframe tbody tr th {\n",
       "        vertical-align: top;\n",
       "    }\n",
       "\n",
       "    .dataframe thead th {\n",
       "        text-align: right;\n",
       "    }\n",
       "</style>\n",
       "<table border=\"1\" class=\"dataframe\">\n",
       "  <thead>\n",
       "    <tr style=\"text-align: right;\">\n",
       "      <th></th>\n",
       "      <th>Country Name</th>\n",
       "      <th>Indicator Name</th>\n",
       "      <th>2006-2015 AVG</th>\n",
       "    </tr>\n",
       "    <tr>\n",
       "      <th>Index</th>\n",
       "      <th></th>\n",
       "      <th></th>\n",
       "      <th></th>\n",
       "    </tr>\n",
       "  </thead>\n",
       "  <tbody>\n",
       "    <tr>\n",
       "      <th>0</th>\n",
       "      <td>Bangladesh</td>\n",
       "      <td>Mortality rate, adult, female (per 1,000 femal...</td>\n",
       "      <td>120.919333</td>\n",
       "    </tr>\n",
       "  </tbody>\n",
       "</table>\n",
       "</div>"
      ],
      "text/plain": [
       "      Country Name                                     Indicator Name  \\\n",
       "Index                                                                   \n",
       "0       Bangladesh  Mortality rate, adult, female (per 1,000 femal...   \n",
       "\n",
       "       2006-2015 AVG  \n",
       "Index                 \n",
       "0         120.919333  "
      ]
     },
     "execution_count": 9,
     "metadata": {},
     "output_type": "execute_result"
    }
   ],
   "source": [
    "cleaned_data_df = cleaned_data_df [[\"Country Name\",\"Indicator Name\", \"2006-2015 AVG\"]]\n",
    "cleaned_data_df.head(1)"
   ]
  },
  {
   "cell_type": "code",
   "execution_count": 13,
   "metadata": {},
   "outputs": [],
   "source": [
    "# Calculate Total Average Mortality Rates\n",
    "countries = cleaned_data_df[\"Country Name\"].unique().astype(str)\n",
    "country_list = []\n",
    "total_avg_mort = []\n",
    "for country in countries:\n",
    "\n",
    "    country_df = cleaned_data_df.loc[cleaned_data_df[\"Country Name\"] == country, :]\n",
    "    total_mort = country_df.loc[(country_df[\"Indicator Name\"] == \"Mortality rate, adult, male (per 1,000 male adults)\") | (country_df[\"Indicator Name\"] == \"Mortality rate, adult, female (per 1,000 female adults)\") , \"2006-2015 AVG\"].sum()\n",
    "    \n",
    "    country_list.append(country)\n",
    "    total_avg_mort.append(total_mort)\n"
   ]
  },
  {
   "cell_type": "code",
   "execution_count": 14,
   "metadata": {},
   "outputs": [
    {
     "data": {
      "text/html": [
       "<div>\n",
       "<style scoped>\n",
       "    .dataframe tbody tr th:only-of-type {\n",
       "        vertical-align: middle;\n",
       "    }\n",
       "\n",
       "    .dataframe tbody tr th {\n",
       "        vertical-align: top;\n",
       "    }\n",
       "\n",
       "    .dataframe thead th {\n",
       "        text-align: right;\n",
       "    }\n",
       "</style>\n",
       "<table border=\"1\" class=\"dataframe\">\n",
       "  <thead>\n",
       "    <tr style=\"text-align: right;\">\n",
       "      <th></th>\n",
       "      <th>Country Name</th>\n",
       "      <th>Indicator Name</th>\n",
       "      <th>2006-2015 AVG</th>\n",
       "    </tr>\n",
       "  </thead>\n",
       "  <tbody>\n",
       "    <tr>\n",
       "      <th>0</th>\n",
       "      <td>Bangladesh</td>\n",
       "      <td>Mortality Rate, Total</td>\n",
       "      <td>280.015889</td>\n",
       "    </tr>\n",
       "  </tbody>\n",
       "</table>\n",
       "</div>"
      ],
      "text/plain": [
       "  Country Name         Indicator Name  2006-2015 AVG\n",
       "0   Bangladesh  Mortality Rate, Total     280.015889"
      ]
     },
     "execution_count": 14,
     "metadata": {},
     "output_type": "execute_result"
    }
   ],
   "source": [
    "# Create Dataframe for Total Average Mortality Rates\n",
    "total_avg_mort_df = pd.DataFrame({\n",
    "    \"Country Name\" : country_list,\n",
    "    \"Indicator Name\" : \"Mortality Rate, Total\",\n",
    "    \"2006-2015 AVG\" : total_avg_mort,\n",
    "    })\n",
    "total_avg_mort_df.head(1)"
   ]
  },
  {
   "cell_type": "code",
   "execution_count": 16,
   "metadata": {},
   "outputs": [
    {
     "data": {
      "text/html": [
       "<div>\n",
       "<style scoped>\n",
       "    .dataframe tbody tr th:only-of-type {\n",
       "        vertical-align: middle;\n",
       "    }\n",
       "\n",
       "    .dataframe tbody tr th {\n",
       "        vertical-align: top;\n",
       "    }\n",
       "\n",
       "    .dataframe thead th {\n",
       "        text-align: right;\n",
       "    }\n",
       "</style>\n",
       "<table border=\"1\" class=\"dataframe\">\n",
       "  <thead>\n",
       "    <tr style=\"text-align: right;\">\n",
       "      <th></th>\n",
       "      <th>Country Name</th>\n",
       "      <th>Indicator Name</th>\n",
       "      <th>2006-2015 AVG</th>\n",
       "    </tr>\n",
       "  </thead>\n",
       "  <tbody>\n",
       "    <tr>\n",
       "      <th>0</th>\n",
       "      <td>Bangladesh</td>\n",
       "      <td>Mortality rate, adult, female (per 1,000 femal...</td>\n",
       "      <td>120.919333</td>\n",
       "    </tr>\n",
       "  </tbody>\n",
       "</table>\n",
       "</div>"
      ],
      "text/plain": [
       "  Country Name                                     Indicator Name  \\\n",
       "0   Bangladesh  Mortality rate, adult, female (per 1,000 femal...   \n",
       "\n",
       "   2006-2015 AVG  \n",
       "0     120.919333  "
      ]
     },
     "execution_count": 16,
     "metadata": {},
     "output_type": "execute_result"
    }
   ],
   "source": [
    "# Combine cleaned_data_df and total_avg_mort_df ?\n",
    "cleaned_data_df = cleaned_data_df.append(total_avg_mort_df,ignore_index=True)\n",
    "cleaned_data_df.head(1)"
   ]
  },
  {
   "cell_type": "code",
   "execution_count": 17,
   "metadata": {},
   "outputs": [
    {
     "data": {
      "text/html": [
       "<div>\n",
       "<style scoped>\n",
       "    .dataframe tbody tr th:only-of-type {\n",
       "        vertical-align: middle;\n",
       "    }\n",
       "\n",
       "    .dataframe tbody tr th {\n",
       "        vertical-align: top;\n",
       "    }\n",
       "\n",
       "    .dataframe thead th {\n",
       "        text-align: right;\n",
       "    }\n",
       "</style>\n",
       "<table border=\"1\" class=\"dataframe\">\n",
       "  <thead>\n",
       "    <tr style=\"text-align: right;\">\n",
       "      <th></th>\n",
       "      <th>Country Name</th>\n",
       "      <th>Indicator Name</th>\n",
       "      <th>2006-2015 AVG</th>\n",
       "    </tr>\n",
       "  </thead>\n",
       "  <tbody>\n",
       "    <tr>\n",
       "      <th>0</th>\n",
       "      <td>Bangladesh</td>\n",
       "      <td>Mortality Rate, Total</td>\n",
       "      <td>2.800159e+02</td>\n",
       "    </tr>\n",
       "    <tr>\n",
       "      <th>1</th>\n",
       "      <td>Bangladesh</td>\n",
       "      <td>Mortality rate, adult, female (per 1,000 femal...</td>\n",
       "      <td>1.209193e+02</td>\n",
       "    </tr>\n",
       "    <tr>\n",
       "      <th>2</th>\n",
       "      <td>Bangladesh</td>\n",
       "      <td>Mortality rate, adult, male (per 1,000 male ad...</td>\n",
       "      <td>1.590966e+02</td>\n",
       "    </tr>\n",
       "    <tr>\n",
       "      <th>3</th>\n",
       "      <td>Bangladesh</td>\n",
       "      <td>Physicians (per 1,000 people)</td>\n",
       "      <td>3.137500e-01</td>\n",
       "    </tr>\n",
       "    <tr>\n",
       "      <th>4</th>\n",
       "      <td>Bangladesh</td>\n",
       "      <td>Population, female</td>\n",
       "      <td>7.543719e+07</td>\n",
       "    </tr>\n",
       "    <tr>\n",
       "      <th>...</th>\n",
       "      <td>...</td>\n",
       "      <td>...</td>\n",
       "      <td>...</td>\n",
       "    </tr>\n",
       "    <tr>\n",
       "      <th>115</th>\n",
       "      <td>United States</td>\n",
       "      <td>Prevalence of overweight (% of adults)</td>\n",
       "      <td>6.640000e+01</td>\n",
       "    </tr>\n",
       "    <tr>\n",
       "      <th>116</th>\n",
       "      <td>United States</td>\n",
       "      <td>Prevalence of overweight, female (% of female ...</td>\n",
       "      <td>6.170000e+01</td>\n",
       "    </tr>\n",
       "    <tr>\n",
       "      <th>117</th>\n",
       "      <td>United States</td>\n",
       "      <td>Prevalence of overweight, male (% of male adults)</td>\n",
       "      <td>7.120000e+01</td>\n",
       "    </tr>\n",
       "    <tr>\n",
       "      <th>118</th>\n",
       "      <td>United States</td>\n",
       "      <td>Rural population</td>\n",
       "      <td>5.935318e+07</td>\n",
       "    </tr>\n",
       "    <tr>\n",
       "      <th>119</th>\n",
       "      <td>United States</td>\n",
       "      <td>Urban population</td>\n",
       "      <td>2.508867e+08</td>\n",
       "    </tr>\n",
       "  </tbody>\n",
       "</table>\n",
       "<p>120 rows × 3 columns</p>\n",
       "</div>"
      ],
      "text/plain": [
       "      Country Name                                     Indicator Name  \\\n",
       "0       Bangladesh                              Mortality Rate, Total   \n",
       "1       Bangladesh  Mortality rate, adult, female (per 1,000 femal...   \n",
       "2       Bangladesh  Mortality rate, adult, male (per 1,000 male ad...   \n",
       "3       Bangladesh                      Physicians (per 1,000 people)   \n",
       "4       Bangladesh                                 Population, female   \n",
       "..             ...                                                ...   \n",
       "115  United States             Prevalence of overweight (% of adults)   \n",
       "116  United States  Prevalence of overweight, female (% of female ...   \n",
       "117  United States  Prevalence of overweight, male (% of male adults)   \n",
       "118  United States                                   Rural population   \n",
       "119  United States                                   Urban population   \n",
       "\n",
       "     2006-2015 AVG  \n",
       "0     2.800159e+02  \n",
       "1     1.209193e+02  \n",
       "2     1.590966e+02  \n",
       "3     3.137500e-01  \n",
       "4     7.543719e+07  \n",
       "..             ...  \n",
       "115   6.640000e+01  \n",
       "116   6.170000e+01  \n",
       "117   7.120000e+01  \n",
       "118   5.935318e+07  \n",
       "119   2.508867e+08  \n",
       "\n",
       "[120 rows x 3 columns]"
      ]
     },
     "execution_count": 17,
     "metadata": {},
     "output_type": "execute_result"
    }
   ],
   "source": [
    "# Sort data\n",
    "cleaned_data_df = cleaned_data_df.sort_values([\"Country Name\", \"Indicator Name\"], ascending =True)\n",
    "cleaned_data_df = cleaned_data_df.reset_index(drop=True)\n",
    "cleaned_data_df"
   ]
  },
  {
   "cell_type": "code",
   "execution_count": 18,
   "metadata": {},
   "outputs": [],
   "source": [
    "# Export cleaned data to CSV\n",
    "cleaned_data_df.to_csv(\"cleaned_data.csv\", index=False)"
   ]
  },
  {
   "cell_type": "code",
   "execution_count": 19,
   "metadata": {},
   "outputs": [
    {
     "data": {
      "text/html": [
       "<div>\n",
       "<style scoped>\n",
       "    .dataframe tbody tr th:only-of-type {\n",
       "        vertical-align: middle;\n",
       "    }\n",
       "\n",
       "    .dataframe tbody tr th {\n",
       "        vertical-align: top;\n",
       "    }\n",
       "\n",
       "    .dataframe thead th {\n",
       "        text-align: right;\n",
       "    }\n",
       "</style>\n",
       "<table border=\"1\" class=\"dataframe\">\n",
       "  <thead>\n",
       "    <tr style=\"text-align: right;\">\n",
       "      <th></th>\n",
       "      <th>Country Name</th>\n",
       "      <th>Indicator Name</th>\n",
       "      <th>2006-2015 AVG</th>\n",
       "    </tr>\n",
       "  </thead>\n",
       "  <tbody>\n",
       "    <tr>\n",
       "      <th>0</th>\n",
       "      <td>Bangladesh</td>\n",
       "      <td>Mortality Rate, Total</td>\n",
       "      <td>2.800159e+02</td>\n",
       "    </tr>\n",
       "    <tr>\n",
       "      <th>1</th>\n",
       "      <td>Bangladesh</td>\n",
       "      <td>Mortality rate, adult, female (per 1,000 femal...</td>\n",
       "      <td>1.209193e+02</td>\n",
       "    </tr>\n",
       "    <tr>\n",
       "      <th>2</th>\n",
       "      <td>Bangladesh</td>\n",
       "      <td>Mortality rate, adult, male (per 1,000 male ad...</td>\n",
       "      <td>1.590966e+02</td>\n",
       "    </tr>\n",
       "    <tr>\n",
       "      <th>3</th>\n",
       "      <td>Bangladesh</td>\n",
       "      <td>Physicians (per 1,000 people)</td>\n",
       "      <td>3.137500e-01</td>\n",
       "    </tr>\n",
       "    <tr>\n",
       "      <th>4</th>\n",
       "      <td>Bangladesh</td>\n",
       "      <td>Population, female</td>\n",
       "      <td>7.543719e+07</td>\n",
       "    </tr>\n",
       "    <tr>\n",
       "      <th>...</th>\n",
       "      <td>...</td>\n",
       "      <td>...</td>\n",
       "      <td>...</td>\n",
       "    </tr>\n",
       "    <tr>\n",
       "      <th>115</th>\n",
       "      <td>United States</td>\n",
       "      <td>Prevalence of overweight (% of adults)</td>\n",
       "      <td>6.640000e+01</td>\n",
       "    </tr>\n",
       "    <tr>\n",
       "      <th>116</th>\n",
       "      <td>United States</td>\n",
       "      <td>Prevalence of overweight, female (% of female ...</td>\n",
       "      <td>6.170000e+01</td>\n",
       "    </tr>\n",
       "    <tr>\n",
       "      <th>117</th>\n",
       "      <td>United States</td>\n",
       "      <td>Prevalence of overweight, male (% of male adults)</td>\n",
       "      <td>7.120000e+01</td>\n",
       "    </tr>\n",
       "    <tr>\n",
       "      <th>118</th>\n",
       "      <td>United States</td>\n",
       "      <td>Rural population</td>\n",
       "      <td>5.935318e+07</td>\n",
       "    </tr>\n",
       "    <tr>\n",
       "      <th>119</th>\n",
       "      <td>United States</td>\n",
       "      <td>Urban population</td>\n",
       "      <td>2.508867e+08</td>\n",
       "    </tr>\n",
       "  </tbody>\n",
       "</table>\n",
       "<p>120 rows × 3 columns</p>\n",
       "</div>"
      ],
      "text/plain": [
       "      Country Name                                     Indicator Name  \\\n",
       "0       Bangladesh                              Mortality Rate, Total   \n",
       "1       Bangladesh  Mortality rate, adult, female (per 1,000 femal...   \n",
       "2       Bangladesh  Mortality rate, adult, male (per 1,000 male ad...   \n",
       "3       Bangladesh                      Physicians (per 1,000 people)   \n",
       "4       Bangladesh                                 Population, female   \n",
       "..             ...                                                ...   \n",
       "115  United States             Prevalence of overweight (% of adults)   \n",
       "116  United States  Prevalence of overweight, female (% of female ...   \n",
       "117  United States  Prevalence of overweight, male (% of male adults)   \n",
       "118  United States                                   Rural population   \n",
       "119  United States                                   Urban population   \n",
       "\n",
       "     2006-2015 AVG  \n",
       "0     2.800159e+02  \n",
       "1     1.209193e+02  \n",
       "2     1.590966e+02  \n",
       "3     3.137500e-01  \n",
       "4     7.543719e+07  \n",
       "..             ...  \n",
       "115   6.640000e+01  \n",
       "116   6.170000e+01  \n",
       "117   7.120000e+01  \n",
       "118   5.935318e+07  \n",
       "119   2.508867e+08  \n",
       "\n",
       "[120 rows x 3 columns]"
      ]
     },
     "execution_count": 19,
     "metadata": {},
     "output_type": "execute_result"
    }
   ],
   "source": [
    "# Read cleaned data csv\n",
    "final_cleaned_df = pd.read_csv(\"cleaned_data.csv\")\n",
    "final_cleaned_df"
   ]
  },
  {
   "cell_type": "markdown",
   "metadata": {},
   "source": [
    "## Analysis\n",
    "--------"
   ]
  },
  {
   "cell_type": "markdown",
   "metadata": {},
   "source": [
    "#### Mortality Rate and Sex\n",
    "--------"
   ]
  },
  {
   "cell_type": "code",
   "execution_count": null,
   "metadata": {},
   "outputs": [],
   "source": [
    "# Create bar chart with mortality rate as y-axis and each of the sexes as a bar across all nations"
   ]
  },
  {
   "cell_type": "markdown",
   "metadata": {},
   "source": [
    "#### Mortality Rate and Urbanization\n",
    "--------"
   ]
  },
  {
   "cell_type": "code",
   "execution_count": null,
   "metadata": {},
   "outputs": [],
   "source": [
    "# Create bar chart with mortality rate as y-axis and urban and rural populations as bars across all nations"
   ]
  },
  {
   "cell_type": "code",
   "execution_count": 23,
   "metadata": {},
   "outputs": [
    {
     "data": {
      "text/html": [
       "<div>\n",
       "<style scoped>\n",
       "    .dataframe tbody tr th:only-of-type {\n",
       "        vertical-align: middle;\n",
       "    }\n",
       "\n",
       "    .dataframe tbody tr th {\n",
       "        vertical-align: top;\n",
       "    }\n",
       "\n",
       "    .dataframe thead th {\n",
       "        text-align: right;\n",
       "    }\n",
       "</style>\n",
       "<table border=\"1\" class=\"dataframe\">\n",
       "  <thead>\n",
       "    <tr style=\"text-align: right;\">\n",
       "      <th></th>\n",
       "      <th>Country Name</th>\n",
       "      <th>Indicator Name</th>\n",
       "      <th>2006-2015 AVG</th>\n",
       "    </tr>\n",
       "  </thead>\n",
       "  <tbody>\n",
       "    <tr>\n",
       "      <th>0</th>\n",
       "      <td>Bangladesh</td>\n",
       "      <td>Mortality Rate, Total</td>\n",
       "      <td>280.015889</td>\n",
       "    </tr>\n",
       "  </tbody>\n",
       "</table>\n",
       "</div>"
      ],
      "text/plain": [
       "  Country Name         Indicator Name  2006-2015 AVG\n",
       "0   Bangladesh  Mortality Rate, Total     280.015889"
      ]
     },
     "execution_count": 23,
     "metadata": {},
     "output_type": "execute_result"
    }
   ],
   "source": [
    "# Create dataframe to run visualization on\n",
    "urban_df = final_cleaned_df.loc[(final_cleaned_df[\"Indicator Name\"] == \"Mortality Rate, Total\") |\n",
    "(final_cleaned_df[\"Indicator Name\"] == \"Rural population\") |\n",
    "(final_cleaned_df[\"Indicator Name\"] == \"Urban population\") |\n",
    "(final_cleaned_df[\"Indicator Name\"] == \"Population, total\")\n",
    ",:]\n",
    "urban_df.head(1)"
   ]
  },
  {
   "cell_type": "code",
   "execution_count": 24,
   "metadata": {},
   "outputs": [
    {
     "data": {
      "text/html": [
       "<div>\n",
       "<style scoped>\n",
       "    .dataframe tbody tr th:only-of-type {\n",
       "        vertical-align: middle;\n",
       "    }\n",
       "\n",
       "    .dataframe tbody tr th {\n",
       "        vertical-align: top;\n",
       "    }\n",
       "\n",
       "    .dataframe thead th {\n",
       "        text-align: right;\n",
       "    }\n",
       "</style>\n",
       "<table border=\"1\" class=\"dataframe\">\n",
       "  <thead>\n",
       "    <tr style=\"text-align: right;\">\n",
       "      <th></th>\n",
       "      <th>Country</th>\n",
       "    </tr>\n",
       "    <tr>\n",
       "      <th>Index</th>\n",
       "      <th></th>\n",
       "    </tr>\n",
       "  </thead>\n",
       "  <tbody>\n",
       "    <tr>\n",
       "      <th>0</th>\n",
       "      <td>Bangladesh</td>\n",
       "    </tr>\n",
       "  </tbody>\n",
       "</table>\n",
       "</div>"
      ],
      "text/plain": [
       "          Country\n",
       "Index            \n",
       "0      Bangladesh"
      ]
     },
     "execution_count": 24,
     "metadata": {},
     "output_type": "execute_result"
    }
   ],
   "source": [
    "# Create country column\n",
    "countires =[]\n",
    "countries = urban_df[\"Country Name\"].unique().astype(str)\n",
    "sorted_urban_df = pd.DataFrame(countries)\n",
    "sorted_urban_df=sorted_urban_df.rename(columns = {0:\"Country\"})\n",
    "sorted_urban_df.index.name = \"Index\"\n",
    "sorted_urban_df.head(1)"
   ]
  },
  {
   "cell_type": "code",
   "execution_count": 25,
   "metadata": {},
   "outputs": [
    {
     "data": {
      "text/html": [
       "<div>\n",
       "<style scoped>\n",
       "    .dataframe tbody tr th:only-of-type {\n",
       "        vertical-align: middle;\n",
       "    }\n",
       "\n",
       "    .dataframe tbody tr th {\n",
       "        vertical-align: top;\n",
       "    }\n",
       "\n",
       "    .dataframe thead th {\n",
       "        text-align: right;\n",
       "    }\n",
       "</style>\n",
       "<table border=\"1\" class=\"dataframe\">\n",
       "  <thead>\n",
       "    <tr style=\"text-align: right;\">\n",
       "      <th></th>\n",
       "      <th>Average Mortality Rate (Per 1,000 Adults)</th>\n",
       "    </tr>\n",
       "    <tr>\n",
       "      <th>Index</th>\n",
       "      <th></th>\n",
       "    </tr>\n",
       "  </thead>\n",
       "  <tbody>\n",
       "    <tr>\n",
       "      <th>0</th>\n",
       "      <td>280.015889</td>\n",
       "    </tr>\n",
       "  </tbody>\n",
       "</table>\n",
       "</div>"
      ],
      "text/plain": [
       "       Average Mortality Rate (Per 1,000 Adults)\n",
       "Index                                           \n",
       "0                                     280.015889"
      ]
     },
     "execution_count": 25,
     "metadata": {},
     "output_type": "execute_result"
    }
   ],
   "source": [
    "# Create mortality column\n",
    "mort_rates = urban_df.loc[urban_df[\"Indicator Name\"] == \"Mortality Rate, Total\", '2006-2015 AVG']\n",
    "\n",
    "mort_rates_df = pd.DataFrame(mort_rates)\n",
    "mort_rates_df = mort_rates_df.reset_index(drop=True)\n",
    "mort_rates_df = mort_rates_df.rename(columns = {\"2006-2015 AVG\":\"Average Mortality Rate (Per 1,000 Adults)\"})\n",
    "mort_rates_df.index.name = \"Index\"\n",
    "mort_rates_df.head(1)"
   ]
  },
  {
   "cell_type": "code",
   "execution_count": 26,
   "metadata": {},
   "outputs": [
    {
     "data": {
      "text/html": [
       "<div>\n",
       "<style scoped>\n",
       "    .dataframe tbody tr th:only-of-type {\n",
       "        vertical-align: middle;\n",
       "    }\n",
       "\n",
       "    .dataframe tbody tr th {\n",
       "        vertical-align: top;\n",
       "    }\n",
       "\n",
       "    .dataframe thead th {\n",
       "        text-align: right;\n",
       "    }\n",
       "</style>\n",
       "<table border=\"1\" class=\"dataframe\">\n",
       "  <thead>\n",
       "    <tr style=\"text-align: right;\">\n",
       "      <th></th>\n",
       "      <th>Average Total Population</th>\n",
       "    </tr>\n",
       "    <tr>\n",
       "      <th>Index</th>\n",
       "      <th></th>\n",
       "    </tr>\n",
       "  </thead>\n",
       "  <tbody>\n",
       "    <tr>\n",
       "      <th>0</th>\n",
       "      <td>152710055.9</td>\n",
       "    </tr>\n",
       "  </tbody>\n",
       "</table>\n",
       "</div>"
      ],
      "text/plain": [
       "       Average Total Population\n",
       "Index                          \n",
       "0                   152710055.9"
      ]
     },
     "execution_count": 26,
     "metadata": {},
     "output_type": "execute_result"
    }
   ],
   "source": [
    "# Create total population column\n",
    "total_pop = urban_df.loc[urban_df[\"Indicator Name\"] == \"Population, total\", '2006-2015 AVG']\n",
    "\n",
    "total_pop_df = pd.DataFrame(total_pop)\n",
    "total_pop_df = total_pop_df.reset_index(drop=True)\n",
    "total_pop_df = total_pop_df.rename(columns = {\"2006-2015 AVG\":\"Average Total Population\"})\n",
    "total_pop_df.index.name = \"Index\"\n",
    "total_pop_df.head(1)"
   ]
  },
  {
   "cell_type": "code",
   "execution_count": 27,
   "metadata": {},
   "outputs": [
    {
     "data": {
      "text/html": [
       "<div>\n",
       "<style scoped>\n",
       "    .dataframe tbody tr th:only-of-type {\n",
       "        vertical-align: middle;\n",
       "    }\n",
       "\n",
       "    .dataframe tbody tr th {\n",
       "        vertical-align: top;\n",
       "    }\n",
       "\n",
       "    .dataframe thead th {\n",
       "        text-align: right;\n",
       "    }\n",
       "</style>\n",
       "<table border=\"1\" class=\"dataframe\">\n",
       "  <thead>\n",
       "    <tr style=\"text-align: right;\">\n",
       "      <th></th>\n",
       "      <th>Average Urban Population</th>\n",
       "    </tr>\n",
       "    <tr>\n",
       "      <th>Index</th>\n",
       "      <th></th>\n",
       "    </tr>\n",
       "  </thead>\n",
       "  <tbody>\n",
       "    <tr>\n",
       "      <th>0</th>\n",
       "      <td>47245799.0</td>\n",
       "    </tr>\n",
       "  </tbody>\n",
       "</table>\n",
       "</div>"
      ],
      "text/plain": [
       "       Average Urban Population\n",
       "Index                          \n",
       "0                    47245799.0"
      ]
     },
     "execution_count": 27,
     "metadata": {},
     "output_type": "execute_result"
    }
   ],
   "source": [
    "# Create urban population column\n",
    "urban_pop = urban_df.loc[urban_df[\"Indicator Name\"] == \"Urban population\", '2006-2015 AVG']\n",
    "\n",
    "urban_pop_df = pd.DataFrame(urban_pop)\n",
    "urban_pop_df = urban_pop_df.reset_index(drop=True)\n",
    "urban_pop_df = urban_pop_df.rename(columns = {\"2006-2015 AVG\":\"Average Urban Population\"})\n",
    "urban_pop_df.index.name = \"Index\"\n",
    "urban_pop_df.head(1)"
   ]
  },
  {
   "cell_type": "code",
   "execution_count": 28,
   "metadata": {},
   "outputs": [
    {
     "data": {
      "text/html": [
       "<div>\n",
       "<style scoped>\n",
       "    .dataframe tbody tr th:only-of-type {\n",
       "        vertical-align: middle;\n",
       "    }\n",
       "\n",
       "    .dataframe tbody tr th {\n",
       "        vertical-align: top;\n",
       "    }\n",
       "\n",
       "    .dataframe thead th {\n",
       "        text-align: right;\n",
       "    }\n",
       "</style>\n",
       "<table border=\"1\" class=\"dataframe\">\n",
       "  <thead>\n",
       "    <tr style=\"text-align: right;\">\n",
       "      <th></th>\n",
       "      <th>Average Rural Population</th>\n",
       "    </tr>\n",
       "    <tr>\n",
       "      <th>Index</th>\n",
       "      <th></th>\n",
       "    </tr>\n",
       "  </thead>\n",
       "  <tbody>\n",
       "    <tr>\n",
       "      <th>0</th>\n",
       "      <td>105464256.9</td>\n",
       "    </tr>\n",
       "  </tbody>\n",
       "</table>\n",
       "</div>"
      ],
      "text/plain": [
       "       Average Rural Population\n",
       "Index                          \n",
       "0                   105464256.9"
      ]
     },
     "execution_count": 28,
     "metadata": {},
     "output_type": "execute_result"
    }
   ],
   "source": [
    "# Create rural population column\n",
    "rural_pop = urban_df.loc[urban_df[\"Indicator Name\"] == \"Rural population\", '2006-2015 AVG']\n",
    "\n",
    "rural_pop_df = pd.DataFrame(rural_pop)\n",
    "rural_pop_df = rural_pop_df.reset_index(drop=True)\n",
    "rural_pop_df = rural_pop_df.rename(columns = {\"2006-2015 AVG\":\"Average Rural Population\"})\n",
    "rural_pop_df.index.name = \"Index\"\n",
    "rural_pop_df.head(1)"
   ]
  },
  {
   "cell_type": "code",
   "execution_count": 29,
   "metadata": {},
   "outputs": [
    {
     "data": {
      "text/html": [
       "<div>\n",
       "<style scoped>\n",
       "    .dataframe tbody tr th:only-of-type {\n",
       "        vertical-align: middle;\n",
       "    }\n",
       "\n",
       "    .dataframe tbody tr th {\n",
       "        vertical-align: top;\n",
       "    }\n",
       "\n",
       "    .dataframe thead th {\n",
       "        text-align: right;\n",
       "    }\n",
       "</style>\n",
       "<table border=\"1\" class=\"dataframe\">\n",
       "  <thead>\n",
       "    <tr style=\"text-align: right;\">\n",
       "      <th></th>\n",
       "      <th>Country</th>\n",
       "      <th>Average Mortality Rate (Per 1,000 Adults)</th>\n",
       "      <th>Average Total Population</th>\n",
       "      <th>Average Urban Population</th>\n",
       "      <th>Average Rural Population</th>\n",
       "    </tr>\n",
       "    <tr>\n",
       "      <th>Index</th>\n",
       "      <th></th>\n",
       "      <th></th>\n",
       "      <th></th>\n",
       "      <th></th>\n",
       "      <th></th>\n",
       "    </tr>\n",
       "  </thead>\n",
       "  <tbody>\n",
       "    <tr>\n",
       "      <th>0</th>\n",
       "      <td>Bangladesh</td>\n",
       "      <td>280.015889</td>\n",
       "      <td>1.527101e+08</td>\n",
       "      <td>47245799.0</td>\n",
       "      <td>105464256.9</td>\n",
       "    </tr>\n",
       "    <tr>\n",
       "      <th>1</th>\n",
       "      <td>Brazil</td>\n",
       "      <td>308.089889</td>\n",
       "      <td>1.994672e+08</td>\n",
       "      <td>168501323.0</td>\n",
       "      <td>30965870.5</td>\n",
       "    </tr>\n",
       "    <tr>\n",
       "      <th>2</th>\n",
       "      <td>China</td>\n",
       "      <td>182.676556</td>\n",
       "      <td>1.341022e+09</td>\n",
       "      <td>669038662.6</td>\n",
       "      <td>671983337.4</td>\n",
       "    </tr>\n",
       "    <tr>\n",
       "      <th>3</th>\n",
       "      <td>India</td>\n",
       "      <td>386.059222</td>\n",
       "      <td>1.238089e+09</td>\n",
       "      <td>385836981.2</td>\n",
       "      <td>852251751.3</td>\n",
       "    </tr>\n",
       "    <tr>\n",
       "      <th>4</th>\n",
       "      <td>Indonesia</td>\n",
       "      <td>367.283111</td>\n",
       "      <td>2.433133e+08</td>\n",
       "      <td>122549324.5</td>\n",
       "      <td>120763959.7</td>\n",
       "    </tr>\n",
       "    <tr>\n",
       "      <th>5</th>\n",
       "      <td>Mexico</td>\n",
       "      <td>235.128000</td>\n",
       "      <td>1.193508e+08</td>\n",
       "      <td>93082217.3</td>\n",
       "      <td>26268543.3</td>\n",
       "    </tr>\n",
       "    <tr>\n",
       "      <th>6</th>\n",
       "      <td>Nigeria</td>\n",
       "      <td>750.853444</td>\n",
       "      <td>1.620724e+08</td>\n",
       "      <td>71451889.1</td>\n",
       "      <td>90620472.9</td>\n",
       "    </tr>\n",
       "    <tr>\n",
       "      <th>7</th>\n",
       "      <td>Pakistan</td>\n",
       "      <td>339.226111</td>\n",
       "      <td>1.722177e+08</td>\n",
       "      <td>63582814.5</td>\n",
       "      <td>108634930.8</td>\n",
       "    </tr>\n",
       "    <tr>\n",
       "      <th>8</th>\n",
       "      <td>Russian Federation</td>\n",
       "      <td>539.344200</td>\n",
       "      <td>1.431818e+08</td>\n",
       "      <td>105566957.5</td>\n",
       "      <td>37614801.8</td>\n",
       "    </tr>\n",
       "    <tr>\n",
       "      <th>9</th>\n",
       "      <td>United States</td>\n",
       "      <td>213.410000</td>\n",
       "      <td>3.102399e+08</td>\n",
       "      <td>250886681.6</td>\n",
       "      <td>59353175.7</td>\n",
       "    </tr>\n",
       "  </tbody>\n",
       "</table>\n",
       "</div>"
      ],
      "text/plain": [
       "                  Country  Average Mortality Rate (Per 1,000 Adults)  \\\n",
       "Index                                                                  \n",
       "0              Bangladesh                                 280.015889   \n",
       "1                  Brazil                                 308.089889   \n",
       "2                   China                                 182.676556   \n",
       "3                   India                                 386.059222   \n",
       "4               Indonesia                                 367.283111   \n",
       "5                  Mexico                                 235.128000   \n",
       "6                 Nigeria                                 750.853444   \n",
       "7                Pakistan                                 339.226111   \n",
       "8      Russian Federation                                 539.344200   \n",
       "9           United States                                 213.410000   \n",
       "\n",
       "       Average Total Population  Average Urban Population  \\\n",
       "Index                                                       \n",
       "0                  1.527101e+08                47245799.0   \n",
       "1                  1.994672e+08               168501323.0   \n",
       "2                  1.341022e+09               669038662.6   \n",
       "3                  1.238089e+09               385836981.2   \n",
       "4                  2.433133e+08               122549324.5   \n",
       "5                  1.193508e+08                93082217.3   \n",
       "6                  1.620724e+08                71451889.1   \n",
       "7                  1.722177e+08                63582814.5   \n",
       "8                  1.431818e+08               105566957.5   \n",
       "9                  3.102399e+08               250886681.6   \n",
       "\n",
       "       Average Rural Population  \n",
       "Index                            \n",
       "0                   105464256.9  \n",
       "1                    30965870.5  \n",
       "2                   671983337.4  \n",
       "3                   852251751.3  \n",
       "4                   120763959.7  \n",
       "5                    26268543.3  \n",
       "6                    90620472.9  \n",
       "7                   108634930.8  \n",
       "8                    37614801.8  \n",
       "9                    59353175.7  "
      ]
     },
     "execution_count": 29,
     "metadata": {},
     "output_type": "execute_result"
    }
   ],
   "source": [
    "# Combine colums into sorted_urban_df\n",
    "sorted_urban_df = pd.merge(sorted_urban_df,mort_rates_df, on = \"Index\", how = \"inner\")\n",
    "sorted_urban_df = pd.merge(sorted_urban_df,total_pop_df, on = \"Index\", how = \"inner\")\n",
    "sorted_urban_df = pd.merge(sorted_urban_df,urban_pop_df, on = \"Index\", how = \"inner\")\n",
    "sorted_urban_df = pd.merge(sorted_urban_df,rural_pop_df, on = \"Index\", how = \"inner\")\n",
    "sorted_urban_df"
   ]
  },
  {
   "cell_type": "code",
   "execution_count": 30,
   "metadata": {},
   "outputs": [
    {
     "data": {
      "text/plain": [
       "<function matplotlib.pyplot.show(*args, **kw)>"
      ]
     },
     "execution_count": 30,
     "metadata": {},
     "output_type": "execute_result"
    },
    {
     "data": {
      "image/png": "[encoded data removed]",
      "text/plain": [
       "<Figure size 432x288 with 1 Axes>"
      ]
     },
     "metadata": {
      "needs_background": "light"
     },
     "output_type": "display_data"
    }
   ],
   "source": [
    "# Plot Average Mortality Rate by Country\n",
    "x_values = sorted_urban_df[\"Country\"]\n",
    "y_values = sorted_urban_df[\"Average Mortality Rate (Per 1,000 Adults)\"]\n",
    "plt.bar(x_values,y_values)\n",
    "plt.title (\"Average Mortality Rate (Per 1,000 Adults) by Country\")\n",
    "plt.ylabel (\"Average Mortality Rate (Per 1,000 Adults)\")\n",
    "plt.xticks(x_values,x_values, rotation=90)\n",
    "\n",
    "plt.show"
   ]
  },
  {
   "cell_type": "code",
   "execution_count": 47,
   "metadata": {},
   "outputs": [
    {
     "data": {
      "text/plain": [
       "<function matplotlib.pyplot.show(*args, **kw)>"
      ]
     },
     "execution_count": 47,
     "metadata": {},
     "output_type": "execute_result"
    },
    {
     "data": {
      "image/png": "[encoded data removed]",
      "text/plain": [
       "<Figure size 432x288 with 1 Axes>"
      ]
     },
     "metadata": {
      "needs_background": "light"
     },
     "output_type": "display_data"
    }
   ],
   "source": [
    "# Plot Average Mortality Rate by Average Total Population\n",
    "x_values = sorted_urban_df[\"Average Total Population\"]\n",
    "y_values = sorted_urban_df[\"Average Mortality Rate (Per 1,000 Adults)\"]\n",
    "plt.scatter(x_values,y_values, edgecolors=\"k\")\n",
    "plt.title (\"Average Mortality Rate by Average Total Population\")\n",
    "plt.xlabel (\"Average Total Population (In Billions)\")\n",
    "plt.ylabel (\"Average Mortality Rate (Per 1,000 Adults)\")\n",
    "plt.grid()\n",
    "\n",
    "# Linear regression\n",
    "(slope, intercept, rvalue, pvalue, stderr) = linregress(x_values, y_values)\n",
    "regress_values = x_values * slope + intercept\n",
    "plt.plot(x_values, regress_values, \"r\")\n",
    "\n",
    "# Annotate\n",
    "line_eq = \"y = \" + str(round(slope,2)) + \"x + \" + str(round(intercept,2))\n",
    "plt.annotate(line_eq,(600000000,250),color=\"red\")\n",
    "plt.annotate(f'r = {rvalue}',(600000000, 200),color=\"r\")\n",
    "\n",
    "plt.show"
   ]
  },
  {
   "cell_type": "code",
   "execution_count": 49,
   "metadata": {},
   "outputs": [
    {
     "data": {
      "text/plain": [
       "<function matplotlib.pyplot.show(*args, **kw)>"
      ]
     },
     "execution_count": 49,
     "metadata": {},
     "output_type": "execute_result"
    },
    {
     "data": {
      "image/png": "[encoded data removed]",
      "text/plain": [
       "<Figure size 432x288 with 1 Axes>"
      ]
     },
     "metadata": {
      "needs_background": "light"
     },
     "output_type": "display_data"
    }
   ],
   "source": [
    "# Plot Average Mortality Rate by Average Urban Population\n",
    "x_values = sorted_urban_df[\"Average Urban Population\"]\n",
    "y_values = sorted_urban_df[\"Average Mortality Rate (Per 1,000 Adults)\"]\n",
    "plt.scatter(x_values,y_values, edgecolors=\"k\")\n",
    "plt.title (\"Average Mortality Rate by Average Urban Population\")\n",
    "plt.xlabel (\"Average Urban Population (In Hundred-Millions)\")\n",
    "plt.ylabel (\"Average Mortality Rate (Per 1,000 Adults)\")\n",
    "plt.grid()\n",
    "\n",
    "# Linear regression\n",
    "(slope, intercept, rvalue, pvalue, stderr) = linregress(x_values, y_values)\n",
    "regress_values = x_values * slope + intercept\n",
    "plt.plot(x_values, regress_values, \"r\")\n",
    "\n",
    "# Annotate\n",
    "line_eq = \"y = \" + str(round(slope,2)) + \"x + \" + str(round(intercept,2))\n",
    "plt.annotate(line_eq,(400000000,700),color=\"red\")\n",
    "plt.annotate(f'r = {rvalue}',(400000000, 650),color=\"r\")\n",
    "\n",
    "plt.show"
   ]
  },
  {
   "cell_type": "code",
   "execution_count": 50,
   "metadata": {},
   "outputs": [
    {
     "data": {
      "text/plain": [
       "<function matplotlib.pyplot.show(*args, **kw)>"
      ]
     },
     "execution_count": 50,
     "metadata": {},
     "output_type": "execute_result"
    },
    {
     "data": {
      "image/png": "[encoded data removed]",
      "text/plain": [
       "<Figure size 432x288 with 1 Axes>"
      ]
     },
     "metadata": {
      "needs_background": "light"
     },
     "output_type": "display_data"
    }
   ],
   "source": [
    "# Plot Average Mortality Rate by Average Rural Population\n",
    "x_values = sorted_urban_df[\"Average Rural Population\"]\n",
    "y_values = sorted_urban_df[\"Average Mortality Rate (Per 1,000 Adults)\"]\n",
    "plt.scatter(x_values,y_values, edgecolors=\"k\")\n",
    "plt.title (\"Average Mortality Rate by Average Rural Population\")\n",
    "plt.xlabel (\"Average Rural Population (In Hundred-Millions)\")\n",
    "plt.ylabel (\"Average Mortality Rate (Per 1,000 Adults)\")\n",
    "plt.grid()\n",
    "\n",
    "# Linear regression\n",
    "(slope, intercept, rvalue, pvalue, stderr) = linregress(x_values, y_values)\n",
    "regress_values = x_values * slope + intercept\n",
    "plt.plot(x_values, regress_values, \"r\")\n",
    "\n",
    "# Annotate\n",
    "line_eq = \"y = \" + str(round(slope,2)) + \"x + \" + str(round(intercept,2))\n",
    "plt.annotate(line_eq,(400000000,700),color=\"red\")\n",
    "plt.annotate(f'r = {rvalue}',(400000000, 650),color=\"r\")\n",
    "\n",
    "plt.show"
   ]
  },
  {
   "cell_type": "markdown",
   "metadata": {},
   "source": [
    "#### Mortality Rate and Access to Physicians\n",
    "--------"
   ]
  },
  {
   "cell_type": "code",
   "execution_count": null,
   "metadata": {},
   "outputs": [],
   "source": [
    "# Create scatterplot with mortality rate as y-axis and pysicians (per 1000 people) as the x-axis across all nations"
   ]
  },
  {
   "cell_type": "markdown",
   "metadata": {},
   "source": [
    "#### Mortality Rate and Obesity\n",
    "--------"
   ]
  },
  {
   "cell_type": "code",
   "execution_count": null,
   "metadata": {},
   "outputs": [],
   "source": [
    "# Create scatterplot with mortality rate as y-axis and prevalence of overweight (% of adults) as the x-axis across all nations"
   ]
  }
 ],
 "metadata": {
  "kernelspec": {
   "display_name": "PythonData",
   "language": "python",
   "name": "python3"
  },
  "language_info": {
   "codemirror_mode": {
    "name": "ipython",
    "version": 3
   },
   "file_extension": ".py",
   "mimetype": "text/x-python",
   "name": "python",
   "nbconvert_exporter": "python",
   "pygments_lexer": "ipython3",
   "version": "3.7.7"
  }
 },
 "nbformat": 4,
 "nbformat_minor": 2
}
