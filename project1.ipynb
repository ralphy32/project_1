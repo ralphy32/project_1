{
 "cells": [
  {
   "cell_type": "markdown",
   "metadata": {},
   "source": [
    "# Project 1\n",
    "---\n",
    "\n",
    "### Analysis\n",
    "\n",
    "- Here is where the analysis will be."
   ]
  },
  {
   "cell_type": "markdown",
   "metadata": {},
   "source": [
    "## Setup\n",
    "--------"
   ]
  },
  {
   "cell_type": "code",
   "execution_count": 20,
   "metadata": {
    "vscode": {
     "languageId": "plaintext"
    }
   },
   "outputs": [],
   "source": [
    "# Dependencies\n",
    "import pandas as pd\n",
    "import matplotlib.pyplot as plt\n",
    "import numpy as np\n",
    "import scipy.stats as st"
   ]
  },
  {
   "cell_type": "code",
   "execution_count": 21,
   "metadata": {
    "vscode": {
     "languageId": "plaintext"
    }
   },
   "outputs": [
    {
     "data": {
      "text/html": [
       "<div>\n",
       "<style scoped>\n",
       "    .dataframe tbody tr th:only-of-type {\n",
       "        vertical-align: middle;\n",
       "    }\n",
       "\n",
       "    .dataframe tbody tr th {\n",
       "        vertical-align: top;\n",
       "    }\n",
       "\n",
       "    .dataframe thead th {\n",
       "        text-align: right;\n",
       "    }\n",
       "</style>\n",
       "<table border=\"1\" class=\"dataframe\">\n",
       "  <thead>\n",
       "    <tr style=\"text-align: right;\">\n",
       "      <th></th>\n",
       "      <th>Country Name</th>\n",
       "      <th>Country Code</th>\n",
       "      <th>Indicator Name</th>\n",
       "      <th>Indicator Code</th>\n",
       "      <th>1960</th>\n",
       "      <th>1961</th>\n",
       "      <th>1962</th>\n",
       "      <th>1963</th>\n",
       "      <th>1964</th>\n",
       "      <th>1965</th>\n",
       "      <th>...</th>\n",
       "      <th>2007</th>\n",
       "      <th>2008</th>\n",
       "      <th>2009</th>\n",
       "      <th>2010</th>\n",
       "      <th>2011</th>\n",
       "      <th>2012</th>\n",
       "      <th>2013</th>\n",
       "      <th>2014</th>\n",
       "      <th>2015</th>\n",
       "      <th>Unnamed: 60</th>\n",
       "    </tr>\n",
       "  </thead>\n",
       "  <tbody>\n",
       "    <tr>\n",
       "      <th>0</th>\n",
       "      <td>Arab World</td>\n",
       "      <td>ARB</td>\n",
       "      <td>% of females ages 15-49 having comprehensive c...</td>\n",
       "      <td>SH.HIV.KNOW.FE.ZS</td>\n",
       "      <td>NaN</td>\n",
       "      <td>NaN</td>\n",
       "      <td>NaN</td>\n",
       "      <td>NaN</td>\n",
       "      <td>NaN</td>\n",
       "      <td>NaN</td>\n",
       "      <td>...</td>\n",
       "      <td>NaN</td>\n",
       "      <td>NaN</td>\n",
       "      <td>NaN</td>\n",
       "      <td>NaN</td>\n",
       "      <td>NaN</td>\n",
       "      <td>NaN</td>\n",
       "      <td>NaN</td>\n",
       "      <td>NaN</td>\n",
       "      <td>NaN</td>\n",
       "      <td>NaN</td>\n",
       "    </tr>\n",
       "  </tbody>\n",
       "</table>\n",
       "<p>1 rows × 61 columns</p>\n",
       "</div>"
      ],
      "text/plain": [
       "  Country Name Country Code  \\\n",
       "0   Arab World          ARB   \n",
       "\n",
       "                                      Indicator Name     Indicator Code  1960  \\\n",
       "0  % of females ages 15-49 having comprehensive c...  SH.HIV.KNOW.FE.ZS   NaN   \n",
       "\n",
       "   1961  1962  1963  1964  1965  ...  2007  2008  2009  2010  2011  2012  \\\n",
       "0   NaN   NaN   NaN   NaN   NaN  ...   NaN   NaN   NaN   NaN   NaN   NaN   \n",
       "\n",
       "   2013  2014  2015  Unnamed: 60  \n",
       "0   NaN   NaN   NaN          NaN  \n",
       "\n",
       "[1 rows x 61 columns]"
      ]
     },
     "execution_count": 21,
     "metadata": {},
     "output_type": "execute_result"
    }
   ],
   "source": [
    "#Import master data file\n",
    "master_data_df = pd.read_csv(\"data.csv\")\n",
    "master_data_df.head(1)"
   ]
  },
  {
   "cell_type": "code",
   "execution_count": 26,
   "metadata": {},
   "outputs": [
    {
     "data": {
      "text/html": [
       "<div>\n",
       "<style scoped>\n",
       "    .dataframe tbody tr th:only-of-type {\n",
       "        vertical-align: middle;\n",
       "    }\n",
       "\n",
       "    .dataframe tbody tr th {\n",
       "        vertical-align: top;\n",
       "    }\n",
       "\n",
       "    .dataframe thead th {\n",
       "        text-align: right;\n",
       "    }\n",
       "</style>\n",
       "<table border=\"1\" class=\"dataframe\">\n",
       "  <thead>\n",
       "    <tr style=\"text-align: right;\">\n",
       "      <th></th>\n",
       "      <th>Country Name</th>\n",
       "      <th>Indicator Name</th>\n",
       "      <th>2006</th>\n",
       "      <th>2007</th>\n",
       "      <th>2008</th>\n",
       "      <th>2009</th>\n",
       "      <th>2010</th>\n",
       "      <th>2011</th>\n",
       "      <th>2012</th>\n",
       "      <th>2013</th>\n",
       "      <th>2014</th>\n",
       "      <th>2015</th>\n",
       "    </tr>\n",
       "  </thead>\n",
       "  <tbody>\n",
       "    <tr>\n",
       "      <th>19505</th>\n",
       "      <td>Bangladesh</td>\n",
       "      <td>Mortality rate, adult, female (per 1,000 femal...</td>\n",
       "      <td>1.358560e+02</td>\n",
       "      <td>1.315750e+02</td>\n",
       "      <td>1.279400e+02</td>\n",
       "      <td>1.243060e+02</td>\n",
       "      <td>1.206720e+02</td>\n",
       "      <td>1.170380e+02</td>\n",
       "      <td>1.134030e+02</td>\n",
       "      <td>1.102960e+02</td>\n",
       "      <td>1.071880e+02</td>\n",
       "      <td>NaN</td>\n",
       "    </tr>\n",
       "    <tr>\n",
       "      <th>19506</th>\n",
       "      <td>Bangladesh</td>\n",
       "      <td>Mortality rate, adult, male (per 1,000 male ad...</td>\n",
       "      <td>1.652740e+02</td>\n",
       "      <td>1.637070e+02</td>\n",
       "      <td>1.622770e+02</td>\n",
       "      <td>1.608470e+02</td>\n",
       "      <td>1.594170e+02</td>\n",
       "      <td>1.579870e+02</td>\n",
       "      <td>1.565570e+02</td>\n",
       "      <td>1.541200e+02</td>\n",
       "      <td>1.516830e+02</td>\n",
       "      <td>NaN</td>\n",
       "    </tr>\n",
       "    <tr>\n",
       "      <th>19529</th>\n",
       "      <td>Bangladesh</td>\n",
       "      <td>Physicians (per 1,000 people)</td>\n",
       "      <td>3.090000e-01</td>\n",
       "      <td>2.950000e-01</td>\n",
       "      <td>NaN</td>\n",
       "      <td>NaN</td>\n",
       "      <td>2.950000e-01</td>\n",
       "      <td>3.560000e-01</td>\n",
       "      <td>NaN</td>\n",
       "      <td>NaN</td>\n",
       "      <td>NaN</td>\n",
       "      <td>NaN</td>\n",
       "    </tr>\n",
       "    <tr>\n",
       "      <th>19583</th>\n",
       "      <td>Bangladesh</td>\n",
       "      <td>Population, female</td>\n",
       "      <td>7.116678e+07</td>\n",
       "      <td>7.214503e+07</td>\n",
       "      <td>7.308747e+07</td>\n",
       "      <td>7.401692e+07</td>\n",
       "      <td>7.495057e+07</td>\n",
       "      <td>7.589301e+07</td>\n",
       "      <td>7.684136e+07</td>\n",
       "      <td>7.779618e+07</td>\n",
       "      <td>7.875587e+07</td>\n",
       "      <td>79718677.0</td>\n",
       "    </tr>\n",
       "    <tr>\n",
       "      <th>19585</th>\n",
       "      <td>Bangladesh</td>\n",
       "      <td>Population, male</td>\n",
       "      <td>7.367245e+07</td>\n",
       "      <td>7.444765e+07</td>\n",
       "      <td>7.516501e+07</td>\n",
       "      <td>7.588892e+07</td>\n",
       "      <td>7.666620e+07</td>\n",
       "      <td>7.751260e+07</td>\n",
       "      <td>7.841602e+07</td>\n",
       "      <td>7.936122e+07</td>\n",
       "      <td>8.032164e+07</td>\n",
       "      <td>81276965.0</td>\n",
       "    </tr>\n",
       "  </tbody>\n",
       "</table>\n",
       "</div>"
      ],
      "text/plain": [
       "      Country Name                                     Indicator Name  \\\n",
       "19505   Bangladesh  Mortality rate, adult, female (per 1,000 femal...   \n",
       "19506   Bangladesh  Mortality rate, adult, male (per 1,000 male ad...   \n",
       "19529   Bangladesh                      Physicians (per 1,000 people)   \n",
       "19583   Bangladesh                                 Population, female   \n",
       "19585   Bangladesh                                   Population, male   \n",
       "\n",
       "               2006          2007          2008          2009          2010  \\\n",
       "19505  1.358560e+02  1.315750e+02  1.279400e+02  1.243060e+02  1.206720e+02   \n",
       "19506  1.652740e+02  1.637070e+02  1.622770e+02  1.608470e+02  1.594170e+02   \n",
       "19529  3.090000e-01  2.950000e-01           NaN           NaN  2.950000e-01   \n",
       "19583  7.116678e+07  7.214503e+07  7.308747e+07  7.401692e+07  7.495057e+07   \n",
       "19585  7.367245e+07  7.444765e+07  7.516501e+07  7.588892e+07  7.666620e+07   \n",
       "\n",
       "               2011          2012          2013          2014        2015  \n",
       "19505  1.170380e+02  1.134030e+02  1.102960e+02  1.071880e+02         NaN  \n",
       "19506  1.579870e+02  1.565570e+02  1.541200e+02  1.516830e+02         NaN  \n",
       "19529  3.560000e-01           NaN           NaN           NaN         NaN  \n",
       "19583  7.589301e+07  7.684136e+07  7.779618e+07  7.875587e+07  79718677.0  \n",
       "19585  7.751260e+07  7.841602e+07  7.936122e+07  8.032164e+07  81276965.0  "
      ]
     },
     "execution_count": 26,
     "metadata": {},
     "output_type": "execute_result"
    }
   ],
   "source": [
    "#Limit years for cleaned data to 2006-2015\n",
    "cleaned_data_df = master_data_df [[\"Country Name\", \"Indicator Name\", \"2006\", \"2007\", \"2008\", \"2009\", \"2010\", \"2011\", \"2012\", \"2013\", \"2014\", \"2015\"]]\n",
    "\n",
    "#Limit countries for cleaned data to 10 largest in the world\n",
    "cleaned_data_df = cleaned_data_df .loc[(cleaned_data_df [\"Country Name\"] == \"China\") |\n",
    "                     (cleaned_data_df [\"Country Name\"] == \"India\") |\n",
    "                     (cleaned_data_df [\"Country Name\"] == \"United States\") |\n",
    "                     (cleaned_data_df [\"Country Name\"] == \"Indonesia\") |\n",
    "                     (cleaned_data_df [\"Country Name\"] == \"Brazil\") |\n",
    "                     (cleaned_data_df [\"Country Name\"] == \"Pakistan\") |\n",
    "                     (cleaned_data_df [\"Country Name\"] == \"Nigeria\") |\n",
    "                     (cleaned_data_df [\"Country Name\"] == \"Bangladesh\") |\n",
    "                     (cleaned_data_df [\"Country Name\"] == \"Russia\") |\n",
    "                     (cleaned_data_df [\"Country Name\"] == \"Mexico\")\n",
    "                     , :]\n",
    "\n",
    "#Limit indicators to those relevant for planned analysis\n",
    "cleaned_data_df = cleaned_data_df .loc[(cleaned_data_df [\"Indicator Name\"] == \"Mortality rate, adult, male (per 1,000 male adults)\") |\n",
    "                     (cleaned_data_df [\"Indicator Name\"] == \"Mortality rate, adult, female (per 1,000 female adults)\") |\n",
    "                     (cleaned_data_df [\"Indicator Name\"] == \"Population, total\") |\n",
    "                     (cleaned_data_df [\"Indicator Name\"] == \"Population, male\") |\n",
    "                     (cleaned_data_df [\"Indicator Name\"] == \"Population, female\") |\n",
    "                     (cleaned_data_df [\"Indicator Name\"] == \"Urban population\") |\n",
    "                     (cleaned_data_df [\"Indicator Name\"] == \"Rural population\") |\n",
    "                     (cleaned_data_df [\"Indicator Name\"] == \"Physicians (per 1,000 people)\") |\n",
    "                     (cleaned_data_df [\"Indicator Name\"] == \"Prevalence of overweight (% of adults)\") |\n",
    "                     (cleaned_data_df [\"Indicator Name\"] == \"Prevalence of overweight, male (% of male adults)\") |\n",
    "                     (cleaned_data_df [\"Indicator Name\"] == \"Prevalence of overweight, female (% of female adults)\")\n",
    "                     , :]\n",
    "\n",
    "#Display cleaned dataframe\n",
    "cleaned_data_df.head(5)"
   ]
  },
  {
   "cell_type": "code",
   "execution_count": null,
   "metadata": {},
   "outputs": [],
   "source": [
    "#Check for missing data columns (Why is Population, total missing?)"
   ]
  },
  {
   "cell_type": "code",
   "execution_count": null,
   "metadata": {},
   "outputs": [],
   "source": [
    "#Clean up NaN cells"
   ]
  },
  {
   "cell_type": "code",
   "execution_count": null,
   "metadata": {},
   "outputs": [],
   "source": [
    "#Calculate and add total mortality rate to dataframe"
   ]
  },
  {
   "cell_type": "code",
   "execution_count": null,
   "metadata": {},
   "outputs": [],
   "source": [
    "#Formatting of cell values"
   ]
  },
  {
   "cell_type": "markdown",
   "metadata": {},
   "source": [
    "## Analysis\n",
    "--------"
   ]
  },
  {
   "cell_type": "markdown",
   "metadata": {},
   "source": [
    "#### Mortality Rate and Sex\n",
    "--------"
   ]
  },
  {
   "cell_type": "code",
   "execution_count": null,
   "metadata": {},
   "outputs": [],
   "source": [
    "#Create bar chart with mortality rate as y-axis and each of the sexes as a bar across all nations"
   ]
  },
  {
   "cell_type": "markdown",
   "metadata": {},
   "source": [
    "#### Mortality Rate and Urbanization\n",
    "--------"
   ]
  },
  {
   "cell_type": "code",
   "execution_count": null,
   "metadata": {},
   "outputs": [],
   "source": [
    "#Create bar chart with mortality rate as y-axis and urban and rural populations as bars across all nations"
   ]
  },
  {
   "cell_type": "markdown",
   "metadata": {},
   "source": [
    "#### Mortality Rate and Access to Physicians\n",
    "--------"
   ]
  },
  {
   "cell_type": "code",
   "execution_count": null,
   "metadata": {},
   "outputs": [],
   "source": [
    "#Create scatterplot with mortality rate as y-axis and pysicians (per 1000 people) as the x-axis across all nations"
   ]
  },
  {
   "cell_type": "markdown",
   "metadata": {},
   "source": [
    "#### Mortality Rate and Obesity\n",
    "--------"
   ]
  },
  {
   "cell_type": "code",
   "execution_count": null,
   "metadata": {},
   "outputs": [],
   "source": [
    "#Create scatterplot with mortality rate as y-axis and prevalence of overweight (% of adults) as the x-axis across all nations"
   ]
  }
 ],
 "metadata": {
  "kernelspec": {
   "display_name": "PythonData",
   "language": "python",
   "name": "pythondata"
  },
  "language_info": {
   "codemirror_mode": {
    "name": "ipython",
    "version": 3
   },
   "file_extension": ".py",
   "mimetype": "text/x-python",
   "name": "python",
   "nbconvert_exporter": "python",
   "pygments_lexer": "ipython3",
   "version": "3.7.7"
  }
 },
 "nbformat": 4,
 "nbformat_minor": 2
}
